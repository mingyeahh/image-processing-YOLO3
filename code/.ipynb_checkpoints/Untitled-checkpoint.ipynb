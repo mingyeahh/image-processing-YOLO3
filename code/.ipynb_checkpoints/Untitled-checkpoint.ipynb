{
 "cells": [
  {
   "cell_type": "code",
   "execution_count": 4,
   "id": "f33c2f50",
   "metadata": {},
   "outputs": [],
   "source": [
    "import cv2 as cv\n",
    "import argparse\n",
    "import math\n",
    "import os\n",
    "import numpy as np"
   ]
  },
  {
   "cell_type": "code",
   "execution_count": 5,
   "id": "0b8380b8",
   "metadata": {},
   "outputs": [],
   "source": [
    "path_to_dataset = \"../l2-ip-images/test/corrupted\"\n",
    "path_to_output = \"../l2-ip-images/test/results\"\n"
   ]
  },
  {
   "cell_type": "code",
   "execution_count": 7,
   "id": "b2048c57",
   "metadata": {},
   "outputs": [],
   "source": [
    "#take filenames out from the folder and store it to a list\n",
    "filenames = [img for img in os.listdir(path_to_dataset)]\n",
    "filenames.sort() \n",
    "# print(filenames[0])\n",
    "\n",
    "# print(type(filenames))\n",
    "\n",
    "# read the images out one by one and store them into a list\n",
    "img_list = []\n",
    "for img in filenames:\n",
    "    i= cv.imread(os.path.join(path_to_dataset, img),cv.IMREAD_GRAYSCALE)\n",
    "    # print(i)\n",
    "    img_list.append(i)\n",
    "    # print (img)\n",
    "# print(len(img_list))\n"
   ]
  },
  {
   "cell_type": "code",
   "execution_count": 8,
   "id": "53ab2741",
   "metadata": {},
   "outputs": [],
   "source": [
    "# rows,cols,ch = img.shape\n",
    "# pts1 = np.float32([[56,65],[368,52],[28,387],[389,390]])\n",
    "# pts2 = np.float32([[0,0],[300,0],[0,300],[300,300]])\n",
    "\n",
    "# M = cv.getPerspectiveTransform(pts1,pts2)\n",
    "\n",
    "# dst = cv.warpPerspective(img,M,(300,300))\n",
    "\n"
   ]
  },
  {
   "cell_type": "code",
   "execution_count": 11,
   "id": "94bed548",
   "metadata": {},
   "outputs": [],
   "source": [
    "# for i in range(len(img_list)):\n",
    "#     each = img_list[i]\n",
    "#     # salt and pepper noise removal using medianBlur\n",
    "#     median = cv.medianBlur(each, 3)\n",
    "#     # adjust strong contrast and brightness using clahe\n",
    "#     clahe = cv.createCLAHE(clipLimit=4.0, tileGridSize=(8,8))\n",
    "#     clahe_out = clahe.apply(median)\n",
    "    # gaussian = cv.GaussianBlur(clahe_out,(3,3),0)\n",
    "    \n",
    "    # laplacian = cv.Laplacian(clahe_out,cv.CV_8UC1)\n",
    "    # plus = cv.addWeighted(clahe_out,0.5,laplacian,0.5,1)\n",
    "# cv.imwrite(os.path.join(path_to_output, filenames[i]), clahe_out)\n",
    "# cv.destroyAllWindows()\n",
    "\n",
    "test001 = img_list[0]\n",
    "\n",
    "\n",
    "gaussian1 = cv.GaussianBlur(test001,(5,5),0)\n",
    "# median1 = cv.medianBlur(test001, 5)\n",
    "# mean1 = cv.blur(test001,(5,5))\n",
    "# res = np.vstack((mean1,gaussian1, median1))\n",
    "cv.imshow('comparison',gaussian1)\n",
    "cv.imwrite(os.path.join(path_to_output, 'test001.png'), test001)\n",
    "\n",
    "cv.imshow('test001.png', test001)\n",
    "cv.waitKey(0)\n",
    "cv.destroyAllWindows()\n"
   ]
  },
  {
   "cell_type": "code",
   "execution_count": null,
   "id": "7a814a78",
   "metadata": {},
   "outputs": [],
   "source": []
  }
 ],
 "metadata": {
  "kernelspec": {
   "display_name": "Python 3 (ipykernel)",
   "language": "python",
   "name": "python3"
  },
  "language_info": {
   "codemirror_mode": {
    "name": "ipython",
    "version": 3
   },
   "file_extension": ".py",
   "mimetype": "text/x-python",
   "name": "python",
   "nbconvert_exporter": "python",
   "pygments_lexer": "ipython3",
   "version": "3.8.3"
  }
 },
 "nbformat": 4,
 "nbformat_minor": 5
}
